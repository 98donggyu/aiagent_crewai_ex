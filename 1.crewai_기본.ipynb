{
 "cells": [
  {
   "cell_type": "markdown",
   "id": "60203405",
   "metadata": {},
   "source": [
    "# CrewAI 기본 실습"
   ]
  },
  {
   "cell_type": "code",
   "execution_count": 6,
   "id": "f39a1c5b",
   "metadata": {},
   "outputs": [],
   "source": [
    "from crewai import Agent, Task, Crew\n",
    "from langchain_openai import ChatOpenAI\n",
    "from dotenv import load_dotenv\n",
    "import os\n",
    "\n",
    "load_dotenv()\n",
    "\n",
    "api_key = os.getenv(\"OPENAI_API_KEY\")"
   ]
  },
  {
   "cell_type": "markdown",
   "id": "22b48804",
   "metadata": {},
   "source": [
    "## 에이전트 객체 생성\n",
    "### 목차 작성 Agent 정의"
   ]
  },
  {
   "cell_type": "code",
   "execution_count": 7,
   "id": "a526dcb4",
   "metadata": {},
   "outputs": [
    {
     "name": "stderr",
     "output_type": "stream",
     "text": [
      "C:\\Users\\Admin\\AppData\\Roaming\\Python\\Python312\\site-packages\\IPython\\core\\interactiveshell.py:3486: UserWarning: WARNING! max_token is not default parameter.\n",
      "                max_token was transferred to model_kwargs.\n",
      "                Please confirm that max_token is what you intended.\n",
      "  if await self.run_code(code, result, async_=asy):\n"
     ]
    }
   ],
   "source": [
    "outline_generator = Agent(\n",
    "    role = \"outline_generator\",\n",
    "    goal = \"Create structed outlines for articles on given topics. answer in Korean.\",\n",
    "    llm = ChatOpenAI(\n",
    "        model = \"gpt-4o-mini\",\n",
    "        temperature = 0.0,\n",
    "        max_token = 1000,\n",
    "    ),\n",
    "    backstory = \"\"\"\n",
    "        You are an expert at organizing information and creating comprehensive outlines for various subjects.\n",
    "        \"\"\"\n",
    ")"
   ]
  },
  {
   "cell_type": "markdown",
   "id": "b84cb9d6",
   "metadata": {},
   "source": [
    "### 본문 작성 Agent 정의"
   ]
  },
  {
   "cell_type": "code",
   "execution_count": 9,
   "id": "adea25d4",
   "metadata": {},
   "outputs": [
    {
     "name": "stderr",
     "output_type": "stream",
     "text": [
      "C:\\Users\\Admin\\AppData\\Roaming\\Python\\Python312\\site-packages\\IPython\\core\\interactiveshell.py:3486: UserWarning: WARNING! max_token is not default parameter.\n",
      "                max_token was transferred to model_kwargs.\n",
      "                Please confirm that max_token is what you intended.\n",
      "  if await self.run_code(code, result, async_=asy):\n"
     ]
    }
   ],
   "source": [
    "writer = Agent(\n",
    "    role = \"writer\",\n",
    "    goal = \"Create engagin content based on reserach. answer in Korean.\",\n",
    "    llm = ChatOpenAI(\n",
    "        model = \"gpt-4o\",\n",
    "        max_token = 3000,\n",
    "    ),\n",
    "    backstory = \"\"\"\n",
    "        You are a skilled writer who can transform complex information into readable content.\n",
    "        \"\"\"\n",
    ")"
   ]
  },
  {
   "cell_type": "markdown",
   "id": "afb9e589",
   "metadata": {},
   "source": [
    "## Task 정의\n",
    "### 목차 task"
   ]
  },
  {
   "cell_type": "code",
   "execution_count": null,
   "id": "b455cc0a",
   "metadata": {},
   "outputs": [],
   "source": [
    "outline_task  = Task(\n",
    "    name = \"outline_task\",\n",
    "    description = \"Create a detailed outline for the article about AI\\'s impact on job markets.\",\n",
    "    agent = outline_generator,\n",
    "    expected_output = \"\"\"\n",
    "    A comprehensive outline convering the main aspects of AI\\'s influence on employment\n",
    "    \"\"\"\n",
    ")"
   ]
  },
  {
   "cell_type": "markdown",
   "id": "82809c10",
   "metadata": {},
   "source": [
    "### 본문 task"
   ]
  },
  {
   "cell_type": "code",
   "execution_count": null,
   "id": "4502f703",
   "metadata": {},
   "outputs": [],
   "source": [
    "writing_task = Task(\n",
    "    name = \"article_task\",\n",
    "    description = \"Write a detailed article about the findings from the research\",\n",
    "    agent = writer,\n",
    "    expected_output = \"\"\"\n",
    "    An engaging article disussing AI's influence on job markets.\n",
    "    \"\"\"\n",
    ")"
   ]
  },
  {
   "cell_type": "markdown",
   "id": "b32b63f6",
   "metadata": {},
   "source": [
    "## Crew 정의"
   ]
  },
  {
   "cell_type": "code",
   "execution_count": 14,
   "id": "e9c972dc",
   "metadata": {},
   "outputs": [],
   "source": [
    "ai_impact_crew = Crew(\n",
    "    agents=[outline_generator, writer],\n",
    "    tasks=[outline_task, writing_task], \n",
    ")"
   ]
  },
  {
   "cell_type": "markdown",
   "id": "7f64bcc5",
   "metadata": {},
   "source": [
    "## Crew 실행"
   ]
  },
  {
   "cell_type": "code",
   "execution_count": 15,
   "id": "f91d6591",
   "metadata": {},
   "outputs": [],
   "source": [
    "import rich\n",
    "from rich.console import Console\n",
    "\n",
    "console = Console(force_jupyter = True)"
   ]
  },
  {
   "cell_type": "code",
   "execution_count": 17,
   "id": "99c76ff8",
   "metadata": {},
   "outputs": [
    {
     "name": "stdout",
     "output_type": "stream",
     "text": [
      "**AI의 고용 시장에 미치는 영향에 대한 기사**\n",
      "\n",
      "I. 서론\n",
      "   A. AI의 정의 및 발전 배경  \n",
      "AI(인공지능)는 인간의 학습과 추론 능력을 컴퓨터 시스템에 구현하는 기술로, 1950년대부터 연구가 시작되었습니다. 최근에는 머신러닝과 딥러닝의 발전으로 AI 시스템의 성능이 급격히 향상되어 다양한 산업 분야에 도입되고 있습니다.\n",
      "\n",
      "   B. AI가 고용 시장에 미치는 중요성  \n",
      "AI는 기업의 운영 방식과 경제 구조를 변화시켜 고용 시장에 큰 영향을 미치고 있습니다. AI 기술의 도입은 생산성과 효율성을 높이는 동시에, 기존 일자리의 소멸과 새로운 직업의 창출을 촉진하고 있습니다.\n",
      "\n",
      "   C. 기사 목적 및 구조 소개  \n",
      "이 기사는 AI가 고용 시장에 미치는 긍정적 및 부정적 영향을 분석하고, 앞으로의 변화에 대한 예측과 대응 방안을 제시합니다.\n",
      "\n",
      "II. AI의 발전과 고용 시장의 변화\n",
      "   A. AI 기술의 발전 현황  \n",
      "      1. 머신러닝과 딥러닝  \n",
      "머신러닝과 딥러닝은 대량의 데이터를 분석하여 패턴을 인식하고 예측하는 AI 기술로, 다양한 산업에서 의사결정을 지원하고 있습니다.\n",
      "\n",
      "      2. 자연어 처리(NLP)  \n",
      "NLP는 인간의 언어를 이해하고 처리하는 기술로, 고객 서비스, 번역, 콘텐츠 생성 등에서 활용되고 있습니다.\n",
      "\n",
      "      3. 로봇 공학  \n",
      "로봇은 제조업, 물류, 의료 분야에서 자동화와 효율성을 증대시키고 있습니다.\n",
      "\n",
      "   B. 고용 시장의 변화 양상  \n",
      "      1. 전통적인 직업의 변화  \n",
      "AI의 도입으로 인해 단순 반복 작업은 자동화되고, 기존 직업의 성격이 변화하고 있습니다.\n",
      "\n",
      "      2. 새로운 직업의 출현  \n",
      "AI 개발자, 데이터 분석가 등 새로운 직업이 생겨나고 있습니다.\n",
      "\n",
      "III. AI의 긍정적인 영향\n",
      "   A. 생산성 향상  \n",
      "      1. 업무 효율성 증가  \n",
      "AI는 데이터 분석을 통해 업무 효율성을 높이고, 기업의 경쟁력을 강화합니다.\n",
      "\n",
      "      2. 반복 작업 자동화  \n",
      "AI 기술은 반복적이고 단순한 작업을 자동화하여 인적 자원의 효율적 활용을 가능하게 합니다.\n",
      "\n",
      "   B. 새로운 직업 창출  \n",
      "      1. AI 관련 직업의 증가  \n",
      "AI 기술의 발전은 AI 엔지니어, 머신러닝 전문가 등의 직업 수요를 증가시키고 있습니다.\n",
      "\n",
      "      2. 데이터 분석 및 관리 직업의 수요 증가  \n",
      "데이터의 중요성이 커짐에 따라 데이터 과학자와 분석가의 수요도 증가하고 있습니다.\n",
      "\n",
      "   C. 직업의 질 향상  \n",
      "      1. 창의적이고 전략적인 업무에 집중 가능  \n",
      "AI가 반복 작업을 대체하면서 사람들은 창의적인 업무에 집중할 수 있게 되었습니다.\n",
      "\n",
      "      2. 근무 환경 개선  \n",
      "AI의 도입은 근로 조건과 환경을 개선하여 더 나은 근무 환경을 제공합니다.\n",
      "\n",
      "IV. AI의 부정적인 영향\n",
      "   A. 일자리 감소  \n",
      "      1. 자동화로 인한 전통적 직업의 소멸  \n",
      "AI의 자동화로 인해 일부 직업이 사라지고 있습니다.\n",
      "\n",
      "      2. 특정 산업에서의 대량 해고 사례  \n",
      "특정 산업에서는 AI 도입으로 인해 대량 해고가 발생하기도 합니다.\n",
      "\n",
      "   B. 기술 격차 확대  \n",
      "      1. 고급 기술을 요구하는 직업과 저급 기술 직업 간의 격차  \n",
      "AI 기술이 고급 기술을 요구함에 따라 직업 간 기술 격차가 확대되고 있습니다.\n",
      "\n",
      "      2. 교육 및 재훈련의 필요성  \n",
      "기술 변화에 대응하기 위해 교육과 재훈련이 필요합니다.\n",
      "\n",
      "   C. 사회적 불평등 심화  \n",
      "      1. AI 기술 접근성의 차이  \n",
      "AI 기술에 대한 접근성의 차이로 인해 사회적 불평등이 심화될 수 있습니다.\n",
      "\n",
      "      2. 저소득층의 고용 불안정  \n",
      "AI 도입으로 인해 저소득층의 고용이 불안정해질 수 있습니다.\n",
      "\n",
      "V. AI와 고용 시장의 미래 전망\n",
      "   A. AI 기술의 지속적인 발전  \n",
      "AI 기술은 계속해서 발전하며 더 많은 산업에 영향을 미칠 것입니다.\n",
      "\n",
      "   B. 고용 시장의 변화 예측  \n",
      "      1. 직업의 진화  \n",
      "기존 직업은 AI와 함께 진화하며 새로운 형태로 변화할 것입니다.\n",
      "\n",
      "      2. 새로운 산업의 부상  \n",
      "AI와 관련된 새로운 산업이 부상할 것입니다.\n",
      "\n",
      "   C. 정책적 대응 방안  \n",
      "      1. 교육 및 재훈련 프로그램의 필요성  \n",
      "기술 변화에 대응하기 위한 교육 및 재훈련 프로그램이 필요합니다.\n",
      "\n",
      "      2. 사회 안전망 강화  \n",
      "고용 불안정에 대비한 사회 안전망이 강화되어야 합니다.\n",
      "\n",
      "VI. 결론\n",
      "   A. AI의 고용 시장에 대한 종합적 평가  \n",
      "AI는 고용 시장에 긍정적, 부정적 영향을 모두 미치고 있으며, 전반적인 변화의 중심에 있습니다.\n",
      "\n",
      "   B. 개인과 사회의 준비 필요성  \n",
      "개인과 사회는 AI로 인한 변화에 대비하고 적응할 준비가 필요합니다.\n",
      "\n",
      "   C. 미래의 고용 시장을 위한 제언  \n",
      "미래 고용 시장의 긍정적 변화를 위해 혁신적 교육과 사회적 지원이 필요합니다.\n",
      "\n",
      "이 기사는 AI가 고용 시장에 미치는 다양한 영향을 이해하고, 미래의 변화를 준비하는 데 도움을 줄 것입니다. AI의 발전은 불가피하며, 이에 적절히 대응하려면 사회적, 정책적 노력이 요구됩니다.\n"
     ]
    }
   ],
   "source": [
    "result = ai_impact_crew.kickoff()\n",
    "print(result)"
   ]
  },
  {
   "cell_type": "markdown",
   "id": "f26a3528",
   "metadata": {},
   "source": [
    "## Process 정의\n",
    " - 주어진 작업 흐름에 맞게 작업이 수행되도록 함"
   ]
  },
  {
   "cell_type": "code",
   "execution_count": 18,
   "id": "cfcd2f92",
   "metadata": {},
   "outputs": [],
   "source": [
    "from crewai.process import Process\n",
    "\n",
    "ai_impact_crew = Crew(\n",
    "    agent = [outline_generator, writer],\n",
    "    tasks = [outline_task, writing_task],\n",
    "    Process = Process.sequential\n",
    ")"
   ]
  },
  {
   "cell_type": "code",
   "execution_count": 19,
   "id": "5ae214c9",
   "metadata": {},
   "outputs": [
    {
     "name": "stdout",
     "output_type": "stream",
     "text": [
      "**AI의 고용 시장에 미치는 영향에 대한 기사**\n",
      "\n",
      "I. 서론  \n",
      "   A. 인공지능(AI)은 인간의 인지적 작업을 모방하는 기술로, 최근 몇 년간 급속한 발전을 이루어왔습니다. AI의 발전은 머신러닝, 딥러닝, 자연어 처리 등 다양한 분야에서 이루어지고 있으며, 이는 고용 시장에 큰 영향을 미치고 있습니다.  \n",
      "   B. AI는 직업의 형태를 변화시키고 새로운 직업을 창출하는 등 고용 시장에 중요한 역할을 하고 있습니다.  \n",
      "   C. 본 기사는 AI가 고용 시장에 미치는 영향과 그에 따른 미래의 변화를 분석하여 독자에게 심도 있는 정보를 제공하고자 합니다.  \n",
      "\n",
      "II. AI의 발전과 고용 시장의 변화  \n",
      "   A. AI 기술의 발전 현황  \n",
      "      1. 머신러닝과 딥러닝은 방대한 데이터를 분석하여 패턴을 찾아내고, 예측을 가능하게 합니다.  \n",
      "      2. 자연어 처리(NLP)는 인간의 언어를 이해하고 처리하는 기술로, 고객 서비스나 번역 등의 분야에서 활용되고 있습니다.  \n",
      "      3. 로봇 공학은 제조업에서의 자동화를 이끌며 생산성을 높이고 있습니다.  \n",
      "   B. 고용 시장의 변화 양상  \n",
      "      1. 전통적인 직업의 변화: 제조업, 금융, 의료 등 다양한 산업에서 AI가 인간의 역할을 대체하거나 보조하고 있습니다.  \n",
      "      2. 새로운 직업의 출현: 데이터 과학자, AI 엔지니어 등 AI 기술에 기반한 새로운 직업이 증가하고 있습니다.  \n",
      "\n",
      "III. AI의 긍정적인 영향  \n",
      "   A. 생산성 향상  \n",
      "      1. AI는 업무의 효율성을 증가시키며, 기업의 생산성을 향상시킵니다.  \n",
      "      2. 반복 작업의 자동화로 인해 인간은 더 창의적이고 전략적인 업무에 집중할 수 있습니다.  \n",
      "   B. 새로운 직업 창출  \n",
      "      1. AI 기술의 발전은 관련 직업의 수요를 증가시키고 있습니다.  \n",
      "      2. 데이터 분석 및 관리 분야의 직업 수요도 증가하고 있습니다.  \n",
      "   C. 직업의 질 향상  \n",
      "      1. AI는 근로자가 더 창의적이고 전략적인 업무에 집중할 수 있도록 하여 직업의 질을 향상시킵니다.  \n",
      "      2. AI 기술은 근무 환경을 개선시켜 줍니다.  \n",
      "\n",
      "IV. AI의 부정적인 영향  \n",
      "   A. 일자리 감소  \n",
      "      1. 자동화로 인해 일부 일자리가 AI로 대체되고 있습니다.  \n",
      "      2. 특정 산업의 고용이 감소하여 일부 노동자들이 일자리를 잃고 있습니다.  \n",
      "   B. 기술 격차 확대  \n",
      "      1. 고급 기술을 요구하는 직업과 그렇지 않은 직업 간의 격차가 심화되고 있습니다.  \n",
      "      2. 이에 따라 교육 및 재훈련의 필요성이 증가하고 있습니다.  \n",
      "   C. 사회적 불평등 심화  \n",
      "      1. AI 기술에 대한 접근성의 차이가 사회적 불평등을 심화시킬 수 있습니다.  \n",
      "      2. 저소득층은 AI로 인한 고용 불안정을 겪을 가능성이 높습니다.  \n",
      "\n",
      "V. AI와 고용 시장의 미래 전망  \n",
      "   A. AI 기술은 지속적으로 발전하여 고용 시장에 더 큰 영향을 미칠 것입니다.  \n",
      "   B. 고용 시장의 변화 예측  \n",
      "      1. 직업은 기술 발전에 따라 진화하고, 새로운 산업이 출현할 것입니다.  \n",
      "   C. 정책적 대응 방안  \n",
      "      1. 교육 및 재훈련 프로그램의 필요성이 강조되고 있습니다.  \n",
      "      2. 사회 안전망 강화를 통해 AI로 인한 고용 변화에 대비해야 합니다.  \n",
      "\n",
      "VI. 결론  \n",
      "   A. AI는 고용 시장에 긍정적, 부정적 영향을 모두 미치고 있으며, 종합적인 평가가 필요합니다.  \n",
      "   B. 개인과 사회는 미래의 변화에 대비하여 준비해야 합니다.  \n",
      "   C. AI는 미래 고용 시장에서 중요한 역할을 할 것이며, 우리의 대응이 중요합니다.\n",
      "\n",
      "이 기사는 AI가 고용 시장에 미치는 다양한 영향을 체계적으로 분석하며, 독자에게 AI와 관련된 현상에 대한 깊이 있는 통찰을 제공합니다.\n"
     ]
    }
   ],
   "source": [
    "result2 = ai_impact_crew.kickoff()\n",
    "print(result2.raw)"
   ]
  },
  {
   "cell_type": "markdown",
   "id": "ca56d659",
   "metadata": {},
   "source": [
    "## 마크다운 형식으로 출력하기"
   ]
  },
  {
   "cell_type": "code",
   "execution_count": 20,
   "id": "26a9a727",
   "metadata": {},
   "outputs": [
    {
     "data": {
      "text/markdown": [
       "**AI의 고용 시장에 미치는 영향에 대한 기사**\n",
       "\n",
       "I. 서론\n",
       "   A. AI의 정의 및 발전 배경  \n",
       "AI(인공지능)는 인간의 학습과 추론 능력을 컴퓨터 시스템에 구현하는 기술로, 1950년대부터 연구가 시작되었습니다. 최근에는 머신러닝과 딥러닝의 발전으로 AI 시스템의 성능이 급격히 향상되어 다양한 산업 분야에 도입되고 있습니다.\n",
       "\n",
       "   B. AI가 고용 시장에 미치는 중요성  \n",
       "AI는 기업의 운영 방식과 경제 구조를 변화시켜 고용 시장에 큰 영향을 미치고 있습니다. AI 기술의 도입은 생산성과 효율성을 높이는 동시에, 기존 일자리의 소멸과 새로운 직업의 창출을 촉진하고 있습니다.\n",
       "\n",
       "   C. 기사 목적 및 구조 소개  \n",
       "이 기사는 AI가 고용 시장에 미치는 긍정적 및 부정적 영향을 분석하고, 앞으로의 변화에 대한 예측과 대응 방안을 제시합니다.\n",
       "\n",
       "II. AI의 발전과 고용 시장의 변화\n",
       "   A. AI 기술의 발전 현황  \n",
       "      1. 머신러닝과 딥러닝  \n",
       "머신러닝과 딥러닝은 대량의 데이터를 분석하여 패턴을 인식하고 예측하는 AI 기술로, 다양한 산업에서 의사결정을 지원하고 있습니다.\n",
       "\n",
       "      2. 자연어 처리(NLP)  \n",
       "NLP는 인간의 언어를 이해하고 처리하는 기술로, 고객 서비스, 번역, 콘텐츠 생성 등에서 활용되고 있습니다.\n",
       "\n",
       "      3. 로봇 공학  \n",
       "로봇은 제조업, 물류, 의료 분야에서 자동화와 효율성을 증대시키고 있습니다.\n",
       "\n",
       "   B. 고용 시장의 변화 양상  \n",
       "      1. 전통적인 직업의 변화  \n",
       "AI의 도입으로 인해 단순 반복 작업은 자동화되고, 기존 직업의 성격이 변화하고 있습니다.\n",
       "\n",
       "      2. 새로운 직업의 출현  \n",
       "AI 개발자, 데이터 분석가 등 새로운 직업이 생겨나고 있습니다.\n",
       "\n",
       "III. AI의 긍정적인 영향\n",
       "   A. 생산성 향상  \n",
       "      1. 업무 효율성 증가  \n",
       "AI는 데이터 분석을 통해 업무 효율성을 높이고, 기업의 경쟁력을 강화합니다.\n",
       "\n",
       "      2. 반복 작업 자동화  \n",
       "AI 기술은 반복적이고 단순한 작업을 자동화하여 인적 자원의 효율적 활용을 가능하게 합니다.\n",
       "\n",
       "   B. 새로운 직업 창출  \n",
       "      1. AI 관련 직업의 증가  \n",
       "AI 기술의 발전은 AI 엔지니어, 머신러닝 전문가 등의 직업 수요를 증가시키고 있습니다.\n",
       "\n",
       "      2. 데이터 분석 및 관리 직업의 수요 증가  \n",
       "데이터의 중요성이 커짐에 따라 데이터 과학자와 분석가의 수요도 증가하고 있습니다.\n",
       "\n",
       "   C. 직업의 질 향상  \n",
       "      1. 창의적이고 전략적인 업무에 집중 가능  \n",
       "AI가 반복 작업을 대체하면서 사람들은 창의적인 업무에 집중할 수 있게 되었습니다.\n",
       "\n",
       "      2. 근무 환경 개선  \n",
       "AI의 도입은 근로 조건과 환경을 개선하여 더 나은 근무 환경을 제공합니다.\n",
       "\n",
       "IV. AI의 부정적인 영향\n",
       "   A. 일자리 감소  \n",
       "      1. 자동화로 인한 전통적 직업의 소멸  \n",
       "AI의 자동화로 인해 일부 직업이 사라지고 있습니다.\n",
       "\n",
       "      2. 특정 산업에서의 대량 해고 사례  \n",
       "특정 산업에서는 AI 도입으로 인해 대량 해고가 발생하기도 합니다.\n",
       "\n",
       "   B. 기술 격차 확대  \n",
       "      1. 고급 기술을 요구하는 직업과 저급 기술 직업 간의 격차  \n",
       "AI 기술이 고급 기술을 요구함에 따라 직업 간 기술 격차가 확대되고 있습니다.\n",
       "\n",
       "      2. 교육 및 재훈련의 필요성  \n",
       "기술 변화에 대응하기 위해 교육과 재훈련이 필요합니다.\n",
       "\n",
       "   C. 사회적 불평등 심화  \n",
       "      1. AI 기술 접근성의 차이  \n",
       "AI 기술에 대한 접근성의 차이로 인해 사회적 불평등이 심화될 수 있습니다.\n",
       "\n",
       "      2. 저소득층의 고용 불안정  \n",
       "AI 도입으로 인해 저소득층의 고용이 불안정해질 수 있습니다.\n",
       "\n",
       "V. AI와 고용 시장의 미래 전망\n",
       "   A. AI 기술의 지속적인 발전  \n",
       "AI 기술은 계속해서 발전하며 더 많은 산업에 영향을 미칠 것입니다.\n",
       "\n",
       "   B. 고용 시장의 변화 예측  \n",
       "      1. 직업의 진화  \n",
       "기존 직업은 AI와 함께 진화하며 새로운 형태로 변화할 것입니다.\n",
       "\n",
       "      2. 새로운 산업의 부상  \n",
       "AI와 관련된 새로운 산업이 부상할 것입니다.\n",
       "\n",
       "   C. 정책적 대응 방안  \n",
       "      1. 교육 및 재훈련 프로그램의 필요성  \n",
       "기술 변화에 대응하기 위한 교육 및 재훈련 프로그램이 필요합니다.\n",
       "\n",
       "      2. 사회 안전망 강화  \n",
       "고용 불안정에 대비한 사회 안전망이 강화되어야 합니다.\n",
       "\n",
       "VI. 결론\n",
       "   A. AI의 고용 시장에 대한 종합적 평가  \n",
       "AI는 고용 시장에 긍정적, 부정적 영향을 모두 미치고 있으며, 전반적인 변화의 중심에 있습니다.\n",
       "\n",
       "   B. 개인과 사회의 준비 필요성  \n",
       "개인과 사회는 AI로 인한 변화에 대비하고 적응할 준비가 필요합니다.\n",
       "\n",
       "   C. 미래의 고용 시장을 위한 제언  \n",
       "미래 고용 시장의 긍정적 변화를 위해 혁신적 교육과 사회적 지원이 필요합니다.\n",
       "\n",
       "이 기사는 AI가 고용 시장에 미치는 다양한 영향을 이해하고, 미래의 변화를 준비하는 데 도움을 줄 것입니다. AI의 발전은 불가피하며, 이에 적절히 대응하려면 사회적, 정책적 노력이 요구됩니다."
      ],
      "text/plain": [
       "<IPython.core.display.Markdown object>"
      ]
     },
     "metadata": {},
     "output_type": "display_data"
    }
   ],
   "source": [
    "from IPython.display import display, Markdown\n",
    "display(Markdown(result.raw))\n"
   ]
  },
  {
   "cell_type": "code",
   "execution_count": null,
   "id": "42a4be2b",
   "metadata": {},
   "outputs": [],
   "source": []
  }
 ],
 "metadata": {
  "kernelspec": {
   "display_name": "agent_env",
   "language": "python",
   "name": "python3"
  },
  "language_info": {
   "codemirror_mode": {
    "name": "ipython",
    "version": 3
   },
   "file_extension": ".py",
   "mimetype": "text/x-python",
   "name": "python",
   "nbconvert_exporter": "python",
   "pygments_lexer": "ipython3",
   "version": "3.12.11"
  }
 },
 "nbformat": 4,
 "nbformat_minor": 5
}
